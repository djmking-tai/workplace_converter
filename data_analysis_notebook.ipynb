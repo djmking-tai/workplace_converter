{
 "cells": [
  {
   "cell_type": "code",
   "execution_count": 1,
   "metadata": {},
   "outputs": [],
   "source": [
    "import pandas as pd\n",
    "import json\n",
    "import polars as pl\n",
    "from pandas import json_normalize\n",
    "import os\n",
    "import warnings\n",
    "import glob\n",
    "from tqdm import tqdm\n",
    "\n",
    "warnings.filterwarnings(\"ignore\")\n",
    "output_dir = 'output'"
   ]
  },
  {
   "cell_type": "code",
   "execution_count": 2,
   "metadata": {},
   "outputs": [],
   "source": [
    "all_bunnings_group_feeds = pl.scan_parquet(glob.glob('Bunnings_v2_converted_parquet/group_feeds_*.parquet'))\n",
    "all_bunnings_member_feeds = pl.scan_parquet(glob.glob('Bunnings_v2_converted_parquet/member_feeds_*.parquet'))\n",
    "all_bunnings_messages = pl.scan_parquet(glob.glob('Bunnings_v2_converted_parquet/member_messages_*.parquet')).with_columns(\n",
    "    pl.col(\"created_time\").str.strptime(pl.Datetime, format=\"%Y-%m-%dT%H:%M:%S%z\")\n",
    ")\n",
    "all_bunnings_conversations = pl.scan_parquet(glob.glob('Bunnings_v2_converted_parquet/conversations_*.parquet'))\n",
    "all_bunnings_post_comments = pl.scan_parquet(glob.glob('Bunnings_v2_converted_parquet/post_comments_*.parquet'))\n",
    "all_bunnings_post_reactions = pl.scan_parquet(glob.glob('Bunnings_v2_converted_parquet/post_reactions_*.parquet'))\n",
    "all_bunnings_post_seen = pl.scan_parquet(glob.glob('Bunnings_v2_converted_parquet/post_seen_*.parquet'))\n",
    "all_bunnings_post_summaries = pl.scan_parquet(glob.glob('Bunnings_v2_converted_parquet/post_summaries_*.parquet'))\n",
    "\n",
    "all_bunnings_member = pl.scan_parquet('Bunnings_v2_converted_parquet/members.parquet')\n",
    "all_bunnings_groups = pl.scan_parquet('Bunnings_v2_converted_parquet/groups.parquet')\n",
    "\n",
    "all_bunnings_member_events = pd.concat([pd.read_parquet(f) for f in glob.glob('Bunnings_v2_converted_parquet/member_events_*.parquet')], ignore_index=True)\n"
   ]
  },
  {
   "cell_type": "code",
   "execution_count": 3,
   "metadata": {},
   "outputs": [
    {
     "data": {
      "text/html": [
       "<div><style>\n",
       ".dataframe > thead > tr,\n",
       ".dataframe > tbody > tr {\n",
       "  text-align: right;\n",
       "  white-space: pre-wrap;\n",
       "}\n",
       "</style>\n",
       "<small>shape: (5, 10)</small><table border=\"1\" class=\"dataframe\"><thead><tr><th>id</th><th>created_time</th><th>message</th><th>tag_names</th><th>from_id</th><th>from_name</th><th>from_community_id</th><th>member_id</th><th>conversation_id</th><th>attachments_data</th></tr><tr><td>str</td><td>datetime[μs, UTC]</td><td>str</td><td>list[str]</td><td>cat</td><td>null</td><td>cat</td><td>cat</td><td>cat</td><td>list[struct[4]]</td></tr></thead><tbody><tr><td>&quot;#anonymous-message-id#O2pUx15L…</td><td>2024-10-07 21:09:17 UTC</td><td>&quot;Hey guys, if you haven’t colle…</td><td>[&quot;inbox&quot;, &quot;messenger&quot;, &quot;source:mobile&quot;]</td><td>&quot;#anonymous-user-id#ZfHunPCzObZ…</td><td>null</td><td>&quot;#anonymous-group-id#UTfe4YWqdi…</td><td>&quot;#anonymous-user-id#F2bEBIlZ+CJ…</td><td>&quot;#anonymous-conversation-id#kYl…</td><td>null</td></tr><tr><td>&quot;#anonymous-message-id#xtoNIiYn…</td><td>2024-09-23 21:53:12 UTC</td><td>&quot;Thank you to everyone in this …</td><td>[&quot;inbox&quot;, &quot;messenger&quot;, … &quot;source:mobile&quot;]</td><td>&quot;#anonymous-user-id#ZfHunPCzObZ…</td><td>null</td><td>&quot;#anonymous-group-id#UTfe4YWqdi…</td><td>&quot;#anonymous-user-id#F2bEBIlZ+CJ…</td><td>&quot;#anonymous-conversation-id#kYl…</td><td>null</td></tr><tr><td>&quot;#anonymous-message-id#5tKrw23s…</td><td>2024-09-23 21:52:23 UTC</td><td>&quot;Jaslyn Rodrigues added Reece P…</td><td>[&quot;inbox&quot;, &quot;read&quot;, &quot;source:mobile&quot;]</td><td>&quot;#anonymous-user-id#ZfHunPCzObZ…</td><td>null</td><td>&quot;#anonymous-group-id#UTfe4YWqdi…</td><td>&quot;#anonymous-user-id#F2bEBIlZ+CJ…</td><td>&quot;#anonymous-conversation-id#kYl…</td><td>null</td></tr><tr><td>&quot;#anonymous-message-id#r8IbEX4E…</td><td>2024-09-23 21:52:17 UTC</td><td>&quot;Jaslyn named the group RECOVER…</td><td>[&quot;inbox&quot;, &quot;messenger&quot;, … &quot;source:mobile&quot;]</td><td>&quot;#anonymous-user-id#ZfHunPCzObZ…</td><td>null</td><td>&quot;#anonymous-group-id#UTfe4YWqdi…</td><td>&quot;#anonymous-user-id#F2bEBIlZ+CJ…</td><td>&quot;#anonymous-conversation-id#kYl…</td><td>null</td></tr><tr><td>&quot;#anonymous-message-id#ZgaHNO8C…</td><td>2024-10-09 05:33:51 UTC</td><td>&quot;hey amelia could u work this s…</td><td>[&quot;inbox&quot;, &quot;messenger&quot;, &quot;source:mobile&quot;]</td><td>&quot;#anonymous-user-id#1E8l7RBdPTu…</td><td>null</td><td>&quot;#anonymous-group-id#UTfe4YWqdi…</td><td>&quot;#anonymous-user-id#F2bEBIlZ+CJ…</td><td>&quot;#anonymous-conversation-id#+M8…</td><td>null</td></tr></tbody></table></div>"
      ],
      "text/plain": [
       "shape: (5, 10)\n",
       "┌───────────┬───────────┬───────────┬───────────┬───┬───────────┬───────────┬───────────┬──────────┐\n",
       "│ id        ┆ created_t ┆ message   ┆ tag_names ┆ … ┆ from_comm ┆ member_id ┆ conversat ┆ attachme │\n",
       "│ ---       ┆ ime       ┆ ---       ┆ ---       ┆   ┆ unity_id  ┆ ---       ┆ ion_id    ┆ nts_data │\n",
       "│ str       ┆ ---       ┆ str       ┆ list[str] ┆   ┆ ---       ┆ cat       ┆ ---       ┆ ---      │\n",
       "│           ┆ datetime[ ┆           ┆           ┆   ┆ cat       ┆           ┆ cat       ┆ list[str │\n",
       "│           ┆ μs, UTC]  ┆           ┆           ┆   ┆           ┆           ┆           ┆ uct[4]]  │\n",
       "╞═══════════╪═══════════╪═══════════╪═══════════╪═══╪═══════════╪═══════════╪═══════════╪══════════╡\n",
       "│ #anonymou ┆ 2024-10-0 ┆ Hey guys, ┆ [\"inbox\", ┆ … ┆ #anonymou ┆ #anonymou ┆ #anonymou ┆ null     │\n",
       "│ s-message ┆ 7         ┆ if you    ┆ \"messenge ┆   ┆ s-group-i ┆ s-user-id ┆ s-convers ┆          │\n",
       "│ -id#O2pUx ┆ 21:09:17  ┆ haven’t   ┆ r\",       ┆   ┆ d#UTfe4YW ┆ #F2bEBIlZ ┆ ation-id# ┆          │\n",
       "│ 15L…      ┆ UTC       ┆ colle…    ┆ \"source…  ┆   ┆ qdi…      ┆ +CJ…      ┆ kYl…      ┆          │\n",
       "│ #anonymou ┆ 2024-09-2 ┆ Thank you ┆ [\"inbox\", ┆ … ┆ #anonymou ┆ #anonymou ┆ #anonymou ┆ null     │\n",
       "│ s-message ┆ 3         ┆ to        ┆ \"messenge ┆   ┆ s-group-i ┆ s-user-id ┆ s-convers ┆          │\n",
       "│ -id#xtoNI ┆ 21:53:12  ┆ everyone  ┆ r\", …     ┆   ┆ d#UTfe4YW ┆ #F2bEBIlZ ┆ ation-id# ┆          │\n",
       "│ iYn…      ┆ UTC       ┆ in this … ┆ \"sour…    ┆   ┆ qdi…      ┆ +CJ…      ┆ kYl…      ┆          │\n",
       "│ #anonymou ┆ 2024-09-2 ┆ Jaslyn    ┆ [\"inbox\", ┆ … ┆ #anonymou ┆ #anonymou ┆ #anonymou ┆ null     │\n",
       "│ s-message ┆ 3         ┆ Rodrigues ┆ \"read\",   ┆   ┆ s-group-i ┆ s-user-id ┆ s-convers ┆          │\n",
       "│ -id#5tKrw ┆ 21:52:23  ┆ added     ┆ \"source:m ┆   ┆ d#UTfe4YW ┆ #F2bEBIlZ ┆ ation-id# ┆          │\n",
       "│ 23s…      ┆ UTC       ┆ Reece P…  ┆ obi…      ┆   ┆ qdi…      ┆ +CJ…      ┆ kYl…      ┆          │\n",
       "│ #anonymou ┆ 2024-09-2 ┆ Jaslyn    ┆ [\"inbox\", ┆ … ┆ #anonymou ┆ #anonymou ┆ #anonymou ┆ null     │\n",
       "│ s-message ┆ 3         ┆ named the ┆ \"messenge ┆   ┆ s-group-i ┆ s-user-id ┆ s-convers ┆          │\n",
       "│ -id#r8IbE ┆ 21:52:17  ┆ group     ┆ r\", …     ┆   ┆ d#UTfe4YW ┆ #F2bEBIlZ ┆ ation-id# ┆          │\n",
       "│ X4E…      ┆ UTC       ┆ RECOVER…  ┆ \"sour…    ┆   ┆ qdi…      ┆ +CJ…      ┆ kYl…      ┆          │\n",
       "│ #anonymou ┆ 2024-10-0 ┆ hey       ┆ [\"inbox\", ┆ … ┆ #anonymou ┆ #anonymou ┆ #anonymou ┆ null     │\n",
       "│ s-message ┆ 9         ┆ amelia    ┆ \"messenge ┆   ┆ s-group-i ┆ s-user-id ┆ s-convers ┆          │\n",
       "│ -id#ZgaHN ┆ 05:33:51  ┆ could u   ┆ r\",       ┆   ┆ d#UTfe4YW ┆ #F2bEBIlZ ┆ ation-id# ┆          │\n",
       "│ O8C…      ┆ UTC       ┆ work this ┆ \"source…  ┆   ┆ qdi…      ┆ +CJ…      ┆ +M8…      ┆          │\n",
       "│           ┆           ┆ s…        ┆           ┆   ┆           ┆           ┆           ┆          │\n",
       "└───────────┴───────────┴───────────┴───────────┴───┴───────────┴───────────┴───────────┴──────────┘"
      ]
     },
     "execution_count": 3,
     "metadata": {},
     "output_type": "execute_result"
    }
   ],
   "source": [
    "all_bunnings_messages.head().collect()"
   ]
  },
  {
   "cell_type": "code",
   "execution_count": 5,
   "metadata": {},
   "outputs": [
    {
     "ename": "SchemaError",
     "evalue": "data type mismatch for column from_id: expected: cat, found: str",
     "output_type": "error",
     "traceback": [
      "\u001b[0;31m---------------------------------------------------------------------------\u001b[0m",
      "\u001b[0;31mSchemaError\u001b[0m                               Traceback (most recent call last)",
      "Cell \u001b[0;32mIn[5], line 1\u001b[0m\n\u001b[0;32m----> 1\u001b[0m \u001b[43mall_bunnings_group_feeds\u001b[49m\u001b[38;5;241;43m.\u001b[39;49m\u001b[43mhead\u001b[49m\u001b[43m(\u001b[49m\u001b[43m)\u001b[49m\u001b[38;5;241;43m.\u001b[39;49m\u001b[43mcollect\u001b[49m\u001b[43m(\u001b[49m\u001b[43m)\u001b[49m\n",
      "File \u001b[0;32m~/Library/Caches/pypoetry/virtualenvs/workplace-converter-FMkCQOQs-py3.13/lib/python3.13/site-packages/polars/_utils/deprecation.py:93\u001b[0m, in \u001b[0;36mdeprecate_streaming_parameter.<locals>.decorate.<locals>.wrapper\u001b[0;34m(*args, **kwargs)\u001b[0m\n\u001b[1;32m     89\u001b[0m         kwargs[\u001b[38;5;124m\"\u001b[39m\u001b[38;5;124mengine\u001b[39m\u001b[38;5;124m\"\u001b[39m] \u001b[38;5;241m=\u001b[39m \u001b[38;5;124m\"\u001b[39m\u001b[38;5;124min-memory\u001b[39m\u001b[38;5;124m\"\u001b[39m\n\u001b[1;32m     91\u001b[0m     \u001b[38;5;28;01mdel\u001b[39;00m kwargs[\u001b[38;5;124m\"\u001b[39m\u001b[38;5;124mstreaming\u001b[39m\u001b[38;5;124m\"\u001b[39m]\n\u001b[0;32m---> 93\u001b[0m \u001b[38;5;28;01mreturn\u001b[39;00m \u001b[43mfunction\u001b[49m\u001b[43m(\u001b[49m\u001b[38;5;241;43m*\u001b[39;49m\u001b[43margs\u001b[49m\u001b[43m,\u001b[49m\u001b[43m \u001b[49m\u001b[38;5;241;43m*\u001b[39;49m\u001b[38;5;241;43m*\u001b[39;49m\u001b[43mkwargs\u001b[49m\u001b[43m)\u001b[49m\n",
      "File \u001b[0;32m~/Library/Caches/pypoetry/virtualenvs/workplace-converter-FMkCQOQs-py3.13/lib/python3.13/site-packages/polars/lazyframe/frame.py:2188\u001b[0m, in \u001b[0;36mLazyFrame.collect\u001b[0;34m(self, type_coercion, _type_check, predicate_pushdown, projection_pushdown, simplify_expression, slice_pushdown, comm_subplan_elim, comm_subexpr_elim, cluster_with_columns, collapse_joins, no_optimization, engine, background, _check_order, _eager, **_kwargs)\u001b[0m\n\u001b[1;32m   2186\u001b[0m \u001b[38;5;66;03m# Only for testing purposes\u001b[39;00m\n\u001b[1;32m   2187\u001b[0m callback \u001b[38;5;241m=\u001b[39m _kwargs\u001b[38;5;241m.\u001b[39mget(\u001b[38;5;124m\"\u001b[39m\u001b[38;5;124mpost_opt_callback\u001b[39m\u001b[38;5;124m\"\u001b[39m, callback)\n\u001b[0;32m-> 2188\u001b[0m \u001b[38;5;28;01mreturn\u001b[39;00m wrap_df(\u001b[43mldf\u001b[49m\u001b[38;5;241;43m.\u001b[39;49m\u001b[43mcollect\u001b[49m\u001b[43m(\u001b[49m\u001b[43mengine\u001b[49m\u001b[43m,\u001b[49m\u001b[43m \u001b[49m\u001b[43mcallback\u001b[49m\u001b[43m)\u001b[49m)\n",
      "\u001b[0;31mSchemaError\u001b[0m: data type mismatch for column from_id: expected: cat, found: str"
     ]
    }
   ],
   "source": [
    "all_bunnings_group_feeds.head().collect()"
   ]
  },
  {
   "cell_type": "code",
   "execution_count": 6,
   "metadata": {},
   "outputs": [
    {
     "data": {
      "text/html": [
       "<div><style>\n",
       ".dataframe > thead > tr,\n",
       ".dataframe > tbody > tr {\n",
       "  text-align: right;\n",
       "  white-space: pre-wrap;\n",
       "}\n",
       "</style>\n",
       "<small>shape: (5, 25)</small><table border=\"1\" class=\"dataframe\"><thead><tr><th>id</th><th>created_time</th><th>is_hidden</th><th>updated_time</th><th>name</th><th>message</th><th>from_id</th><th>from_name</th><th>privacy_allow</th><th>privacy_deny</th><th>privacy_description</th><th>privacy_friends</th><th>privacy_value</th><th>shares_count</th><th>member_id</th><th>message_tags</th><th>place_name</th><th>place_location_city</th><th>place_location_country</th><th>place_location_latitude</th><th>place_location_longitude</th><th>place_location_state</th><th>place_id</th><th>place_location_street</th><th>place_location_zip</th></tr><tr><td>str</td><td>str</td><td>bool</td><td>str</td><td>cat</td><td>str</td><td>cat</td><td>null</td><td>cat</td><td>cat</td><td>cat</td><td>cat</td><td>cat</td><td>f64</td><td>cat</td><td>list[struct[3]]</td><td>cat</td><td>cat</td><td>cat</td><td>f64</td><td>f64</td><td>cat</td><td>cat</td><td>cat</td><td>cat</td></tr></thead><tbody><tr><td>&quot;#anonymous-user-id#FNGuW6Ram6Y…</td><td>&quot;2022-08-30T05:52:23+0000&quot;</td><td>false</td><td>&quot;2022-08-31T05:22:50+0000&quot;</td><td>&quot;Photos from Pauline Borg&#x27;s pos…</td><td>&quot;# Our Special Orders Team deci…</td><td>&quot;#anonymous-user-id#FNGuW6Ram6Y…</td><td>null</td><td>&quot;&quot;</td><td>&quot;&quot;</td><td>&quot;&quot;</td><td>&quot;&quot;</td><td>&quot;CUSTOM&quot;</td><td>null</td><td>&quot;#anonymous-user-id#FNGuW6Ram6Y…</td><td>null</td><td>null</td><td>null</td><td>null</td><td>null</td><td>null</td><td>null</td><td>null</td><td>null</td><td>null</td></tr><tr><td>&quot;#anonymous-user-id#FNGuW6Ram6Y…</td><td>&quot;2022-08-30T05:32:26+0000&quot;</td><td>false</td><td>&quot;2022-08-30T09:49:00+0000&quot;</td><td>&quot;Photos from Pauline Borg&#x27;s pos…</td><td>&quot;North Penrith team ready for a…</td><td>&quot;#anonymous-user-id#FNGuW6Ram6Y…</td><td>null</td><td>&quot;&quot;</td><td>&quot;&quot;</td><td>&quot;&quot;</td><td>&quot;&quot;</td><td>&quot;CUSTOM&quot;</td><td>null</td><td>&quot;#anonymous-user-id#FNGuW6Ram6Y…</td><td>null</td><td>null</td><td>null</td><td>null</td><td>null</td><td>null</td><td>null</td><td>null</td><td>null</td><td>null</td></tr><tr><td>&quot;#anonymous-user-id#FNGuW6Ram6Y…</td><td>&quot;2022-07-12T06:43:27+0000&quot;</td><td>false</td><td>&quot;2022-07-12T06:42:43+0000&quot;</td><td>&quot;Photos from Pauline Borg&#x27;s pos…</td><td>&quot;# North Penrith SIT- TIME TO S…</td><td>&quot;#anonymous-user-id#FNGuW6Ram6Y…</td><td>null</td><td>&quot;&quot;</td><td>&quot;&quot;</td><td>&quot;&quot;</td><td>&quot;&quot;</td><td>&quot;CUSTOM&quot;</td><td>null</td><td>&quot;#anonymous-user-id#FNGuW6Ram6Y…</td><td>null</td><td>null</td><td>null</td><td>null</td><td>null</td><td>null</td><td>null</td><td>null</td><td>null</td><td>null</td></tr><tr><td>&quot;#anonymous-user-id#FNGuW6Ram6Y…</td><td>&quot;2022-04-13T00:06:01+0000&quot;</td><td>false</td><td>&quot;2022-04-13T00:06:01+0000&quot;</td><td>&quot;Photos from Pauline Borg&#x27;s pos…</td><td>&quot;Easter vibe definitely at Nort…</td><td>&quot;#anonymous-user-id#FNGuW6Ram6Y…</td><td>null</td><td>&quot;&quot;</td><td>&quot;&quot;</td><td>&quot;&quot;</td><td>&quot;&quot;</td><td>&quot;CUSTOM&quot;</td><td>null</td><td>&quot;#anonymous-user-id#FNGuW6Ram6Y…</td><td>null</td><td>null</td><td>null</td><td>null</td><td>null</td><td>null</td><td>null</td><td>null</td><td>null</td><td>null</td></tr><tr><td>&quot;#anonymous-user-id#FNGuW6Ram6Y…</td><td>&quot;2022-04-13T00:01:08+0000&quot;</td><td>false</td><td>&quot;2022-04-13T00:01:09+0000&quot;</td><td>&quot;Photos from Pauline Borg&#x27;s pos…</td><td>&quot;North Penrith Cafe greeting ou…</td><td>&quot;#anonymous-user-id#FNGuW6Ram6Y…</td><td>null</td><td>&quot;&quot;</td><td>&quot;&quot;</td><td>&quot;&quot;</td><td>&quot;&quot;</td><td>&quot;CUSTOM&quot;</td><td>null</td><td>&quot;#anonymous-user-id#FNGuW6Ram6Y…</td><td>null</td><td>null</td><td>null</td><td>null</td><td>null</td><td>null</td><td>null</td><td>null</td><td>null</td><td>null</td></tr></tbody></table></div>"
      ],
      "text/plain": [
       "shape: (5, 25)\n",
       "┌───────────┬───────────┬───────────┬───────────┬───┬───────────┬──────────┬───────────┬───────────┐\n",
       "│ id        ┆ created_t ┆ is_hidden ┆ updated_t ┆ … ┆ place_loc ┆ place_id ┆ place_loc ┆ place_loc │\n",
       "│ ---       ┆ ime       ┆ ---       ┆ ime       ┆   ┆ ation_sta ┆ ---      ┆ ation_str ┆ ation_zip │\n",
       "│ str       ┆ ---       ┆ bool      ┆ ---       ┆   ┆ te        ┆ cat      ┆ eet       ┆ ---       │\n",
       "│           ┆ str       ┆           ┆ str       ┆   ┆ ---       ┆          ┆ ---       ┆ cat       │\n",
       "│           ┆           ┆           ┆           ┆   ┆ cat       ┆          ┆ cat       ┆           │\n",
       "╞═══════════╪═══════════╪═══════════╪═══════════╪═══╪═══════════╪══════════╪═══════════╪═══════════╡\n",
       "│ #anonymou ┆ 2022-08-3 ┆ false     ┆ 2022-08-3 ┆ … ┆ null      ┆ null     ┆ null      ┆ null      │\n",
       "│ s-user-id ┆ 0T05:52:2 ┆           ┆ 1T05:22:5 ┆   ┆           ┆          ┆           ┆           │\n",
       "│ #FNGuW6Ra ┆ 3+0000    ┆           ┆ 0+0000    ┆   ┆           ┆          ┆           ┆           │\n",
       "│ m6Y…      ┆           ┆           ┆           ┆   ┆           ┆          ┆           ┆           │\n",
       "│ #anonymou ┆ 2022-08-3 ┆ false     ┆ 2022-08-3 ┆ … ┆ null      ┆ null     ┆ null      ┆ null      │\n",
       "│ s-user-id ┆ 0T05:32:2 ┆           ┆ 0T09:49:0 ┆   ┆           ┆          ┆           ┆           │\n",
       "│ #FNGuW6Ra ┆ 6+0000    ┆           ┆ 0+0000    ┆   ┆           ┆          ┆           ┆           │\n",
       "│ m6Y…      ┆           ┆           ┆           ┆   ┆           ┆          ┆           ┆           │\n",
       "│ #anonymou ┆ 2022-07-1 ┆ false     ┆ 2022-07-1 ┆ … ┆ null      ┆ null     ┆ null      ┆ null      │\n",
       "│ s-user-id ┆ 2T06:43:2 ┆           ┆ 2T06:42:4 ┆   ┆           ┆          ┆           ┆           │\n",
       "│ #FNGuW6Ra ┆ 7+0000    ┆           ┆ 3+0000    ┆   ┆           ┆          ┆           ┆           │\n",
       "│ m6Y…      ┆           ┆           ┆           ┆   ┆           ┆          ┆           ┆           │\n",
       "│ #anonymou ┆ 2022-04-1 ┆ false     ┆ 2022-04-1 ┆ … ┆ null      ┆ null     ┆ null      ┆ null      │\n",
       "│ s-user-id ┆ 3T00:06:0 ┆           ┆ 3T00:06:0 ┆   ┆           ┆          ┆           ┆           │\n",
       "│ #FNGuW6Ra ┆ 1+0000    ┆           ┆ 1+0000    ┆   ┆           ┆          ┆           ┆           │\n",
       "│ m6Y…      ┆           ┆           ┆           ┆   ┆           ┆          ┆           ┆           │\n",
       "│ #anonymou ┆ 2022-04-1 ┆ false     ┆ 2022-04-1 ┆ … ┆ null      ┆ null     ┆ null      ┆ null      │\n",
       "│ s-user-id ┆ 3T00:01:0 ┆           ┆ 3T00:01:0 ┆   ┆           ┆          ┆           ┆           │\n",
       "│ #FNGuW6Ra ┆ 8+0000    ┆           ┆ 9+0000    ┆   ┆           ┆          ┆           ┆           │\n",
       "│ m6Y…      ┆           ┆           ┆           ┆   ┆           ┆          ┆           ┆           │\n",
       "└───────────┴───────────┴───────────┴───────────┴───┴───────────┴──────────┴───────────┴───────────┘"
      ]
     },
     "execution_count": 6,
     "metadata": {},
     "output_type": "execute_result"
    }
   ],
   "source": [
    "all_bunnings_member_feeds.head().collect()"
   ]
  },
  {
   "cell_type": "code",
   "execution_count": null,
   "metadata": {},
   "outputs": [
    {
     "data": {
      "text/html": [
       "<div><style>\n",
       ".dataframe > thead > tr,\n",
       ".dataframe > tbody > tr {\n",
       "  text-align: right;\n",
       "  white-space: pre-wrap;\n",
       "}\n",
       "</style>\n",
       "<small>shape: (5, 6)</small><table border=\"1\" class=\"dataframe\"><thead><tr><th>id</th><th>member_id</th><th>participant_ids</th><th>message_count</th><th>unread_count</th><th>updated_time</th></tr><tr><td>str</td><td>cat</td><td>list[str]</td><td>i64</td><td>i64</td><td>str</td></tr></thead><tbody><tr><td>&quot;#anonymous-conversation-id#2lw…</td><td>&quot;#anonymous-user-id#xiTBeJ8SRyy…</td><td>[&quot;#anonymous-user-id#T1KFGjHF7O5ED3hd5+bspdismQMe5/ZE0O0tpWk8OyE=&quot;, &quot;#anonymous-user-id#ahGzds6NsGhNTkJNr7sr4ZNsBHlPKwf0lhpJCzhffmM=&quot;, … &quot;#anonymous-user-id#A06RDDo71l7wzv+ZLtI7ckxE0Mq4Q8p7ZN6n/68mxPk=&quot;]</td><td>259</td><td>6</td><td>&quot;2025-03-18T04:18:05+0000&quot;</td></tr><tr><td>&quot;#anonymous-conversation-id#oFv…</td><td>&quot;#anonymous-user-id#xiTBeJ8SRyy…</td><td>[&quot;#anonymous-user-id#A06RDDo71l7wzv+ZLtI7ckxE0Mq4Q8p7ZN6n/68mxPk=&quot;, &quot;#anonymous-user-id#xiTBeJ8SRyyQpdJgLqrHAlHH/OgMmlhS7uBl2lcKlRw=&quot;]</td><td>34</td><td>1</td><td>&quot;2025-03-12T04:01:45+0000&quot;</td></tr><tr><td>&quot;#anonymous-conversation-id#7Dy…</td><td>&quot;#anonymous-user-id#xiTBeJ8SRyy…</td><td>[&quot;#anonymous-user-id#h0/7nwetN0bBIVUhFU0Qw1HefGials6PQVy7aoQcX/8=&quot;, &quot;#anonymous-user-id#xiTBeJ8SRyyQpdJgLqrHAlHH/OgMmlhS7uBl2lcKlRw=&quot;]</td><td>34</td><td>0</td><td>&quot;2025-03-02T01:32:56+0000&quot;</td></tr><tr><td>&quot;#anonymous-conversation-id#30V…</td><td>&quot;#anonymous-user-id#xiTBeJ8SRyy…</td><td>[&quot;#anonymous-user-id#q4QyhNP7AJmBH5PtOiFUcH47YbqNpeXHD3PUaz4y/bM=&quot;, &quot;#anonymous-user-id#xiTBeJ8SRyyQpdJgLqrHAlHH/OgMmlhS7uBl2lcKlRw=&quot;]</td><td>7</td><td>0</td><td>&quot;2025-01-22T15:34:47+0000&quot;</td></tr><tr><td>&quot;#anonymous-conversation-id#LBy…</td><td>&quot;#anonymous-user-id#xiTBeJ8SRyy…</td><td>[&quot;#anonymous-user-id#T1KFGjHF7O5ED3hd5+bspdismQMe5/ZE0O0tpWk8OyE=&quot;, &quot;#anonymous-user-id#y+CMdj3PHlh6noECy30UbwR1ab8Bm83vSOcmSikGHio=&quot;, … &quot;#anonymous-user-id#2o/gm+CSJJFmICl2kH2+t+atatsgBYdeYQJ4lxWsqRs=&quot;]</td><td>5</td><td>0</td><td>&quot;2025-01-21T07:03:31+0000&quot;</td></tr></tbody></table></div>"
      ],
      "text/plain": [
       "shape: (5, 6)\n",
       "┌────────────────┬────────────────┬────────────────┬───────────────┬──────────────┬────────────────┐\n",
       "│ id             ┆ member_id      ┆ participant_id ┆ message_count ┆ unread_count ┆ updated_time   │\n",
       "│ ---            ┆ ---            ┆ s              ┆ ---           ┆ ---          ┆ ---            │\n",
       "│ str            ┆ cat            ┆ ---            ┆ i64           ┆ i64          ┆ str            │\n",
       "│                ┆                ┆ list[str]      ┆               ┆              ┆                │\n",
       "╞════════════════╪════════════════╪════════════════╪═══════════════╪══════════════╪════════════════╡\n",
       "│ #anonymous-con ┆ #anonymous-use ┆ [\"#anonymous-u ┆ 259           ┆ 6            ┆ 2025-03-18T04: │\n",
       "│ versation-id#2 ┆ r-id#xiTBeJ8SR ┆ ser-id#T1KFGjH ┆               ┆              ┆ 18:05+0000     │\n",
       "│ lw…            ┆ yy…            ┆ F7…            ┆               ┆              ┆                │\n",
       "│ #anonymous-con ┆ #anonymous-use ┆ [\"#anonymous-u ┆ 34            ┆ 1            ┆ 2025-03-12T04: │\n",
       "│ versation-id#o ┆ r-id#xiTBeJ8SR ┆ ser-id#A06RDDo ┆               ┆              ┆ 01:45+0000     │\n",
       "│ Fv…            ┆ yy…            ┆ 71…            ┆               ┆              ┆                │\n",
       "│ #anonymous-con ┆ #anonymous-use ┆ [\"#anonymous-u ┆ 34            ┆ 0            ┆ 2025-03-02T01: │\n",
       "│ versation-id#7 ┆ r-id#xiTBeJ8SR ┆ ser-id#h0/7nwe ┆               ┆              ┆ 32:56+0000     │\n",
       "│ Dy…            ┆ yy…            ┆ tN…            ┆               ┆              ┆                │\n",
       "│ #anonymous-con ┆ #anonymous-use ┆ [\"#anonymous-u ┆ 7             ┆ 0            ┆ 2025-01-22T15: │\n",
       "│ versation-id#3 ┆ r-id#xiTBeJ8SR ┆ ser-id#q4QyhNP ┆               ┆              ┆ 34:47+0000     │\n",
       "│ 0V…            ┆ yy…            ┆ 7A…            ┆               ┆              ┆                │\n",
       "│ #anonymous-con ┆ #anonymous-use ┆ [\"#anonymous-u ┆ 5             ┆ 0            ┆ 2025-01-21T07: │\n",
       "│ versation-id#L ┆ r-id#xiTBeJ8SR ┆ ser-id#T1KFGjH ┆               ┆              ┆ 03:31+0000     │\n",
       "│ By…            ┆ yy…            ┆ F7…            ┆               ┆              ┆                │\n",
       "└────────────────┴────────────────┴────────────────┴───────────────┴──────────────┴────────────────┘"
      ]
     },
     "execution_count": 24,
     "metadata": {},
     "output_type": "execute_result"
    }
   ],
   "source": [
    "all_bunnings_conversations.head().collect()"
   ]
  },
  {
   "cell_type": "code",
   "execution_count": null,
   "metadata": {},
   "outputs": [
    {
     "ename": "SchemaError",
     "evalue": "data type mismatch for column from_id: expected: cat, found: str",
     "output_type": "error",
     "traceback": [
      "\u001b[0;31m---------------------------------------------------------------------------\u001b[0m",
      "\u001b[0;31mSchemaError\u001b[0m                               Traceback (most recent call last)",
      "Cell \u001b[0;32mIn[25], line 1\u001b[0m\n\u001b[0;32m----> 1\u001b[0m \u001b[43mall_bunnings_post_comments\u001b[49m\u001b[38;5;241;43m.\u001b[39;49m\u001b[43mhead\u001b[49m\u001b[43m(\u001b[49m\u001b[43m)\u001b[49m\u001b[38;5;241;43m.\u001b[39;49m\u001b[43mcollect\u001b[49m\u001b[43m(\u001b[49m\u001b[43m)\u001b[49m\n",
      "File \u001b[0;32m~/Library/Caches/pypoetry/virtualenvs/workplace-converter-FMkCQOQs-py3.13/lib/python3.13/site-packages/polars/_utils/deprecation.py:93\u001b[0m, in \u001b[0;36mdeprecate_streaming_parameter.<locals>.decorate.<locals>.wrapper\u001b[0;34m(*args, **kwargs)\u001b[0m\n\u001b[1;32m     89\u001b[0m         kwargs[\u001b[38;5;124m\"\u001b[39m\u001b[38;5;124mengine\u001b[39m\u001b[38;5;124m\"\u001b[39m] \u001b[38;5;241m=\u001b[39m \u001b[38;5;124m\"\u001b[39m\u001b[38;5;124min-memory\u001b[39m\u001b[38;5;124m\"\u001b[39m\n\u001b[1;32m     91\u001b[0m     \u001b[38;5;28;01mdel\u001b[39;00m kwargs[\u001b[38;5;124m\"\u001b[39m\u001b[38;5;124mstreaming\u001b[39m\u001b[38;5;124m\"\u001b[39m]\n\u001b[0;32m---> 93\u001b[0m \u001b[38;5;28;01mreturn\u001b[39;00m \u001b[43mfunction\u001b[49m\u001b[43m(\u001b[49m\u001b[38;5;241;43m*\u001b[39;49m\u001b[43margs\u001b[49m\u001b[43m,\u001b[49m\u001b[43m \u001b[49m\u001b[38;5;241;43m*\u001b[39;49m\u001b[38;5;241;43m*\u001b[39;49m\u001b[43mkwargs\u001b[49m\u001b[43m)\u001b[49m\n",
      "File \u001b[0;32m~/Library/Caches/pypoetry/virtualenvs/workplace-converter-FMkCQOQs-py3.13/lib/python3.13/site-packages/polars/lazyframe/frame.py:2188\u001b[0m, in \u001b[0;36mLazyFrame.collect\u001b[0;34m(self, type_coercion, _type_check, predicate_pushdown, projection_pushdown, simplify_expression, slice_pushdown, comm_subplan_elim, comm_subexpr_elim, cluster_with_columns, collapse_joins, no_optimization, engine, background, _check_order, _eager, **_kwargs)\u001b[0m\n\u001b[1;32m   2186\u001b[0m \u001b[38;5;66;03m# Only for testing purposes\u001b[39;00m\n\u001b[1;32m   2187\u001b[0m callback \u001b[38;5;241m=\u001b[39m _kwargs\u001b[38;5;241m.\u001b[39mget(\u001b[38;5;124m\"\u001b[39m\u001b[38;5;124mpost_opt_callback\u001b[39m\u001b[38;5;124m\"\u001b[39m, callback)\n\u001b[0;32m-> 2188\u001b[0m \u001b[38;5;28;01mreturn\u001b[39;00m wrap_df(\u001b[43mldf\u001b[49m\u001b[38;5;241;43m.\u001b[39;49m\u001b[43mcollect\u001b[49m\u001b[43m(\u001b[49m\u001b[43mengine\u001b[49m\u001b[43m,\u001b[49m\u001b[43m \u001b[49m\u001b[43mcallback\u001b[49m\u001b[43m)\u001b[49m)\n",
      "\u001b[0;31mSchemaError\u001b[0m: data type mismatch for column from_id: expected: cat, found: str"
     ]
    }
   ],
   "source": [
    "all_bunnings_post_comments.head().collect()"
   ]
  },
  {
   "cell_type": "code",
   "execution_count": null,
   "metadata": {},
   "outputs": [
    {
     "name": "stdout",
     "output_type": "stream",
     "text": [
      "Conversation counts by number of members:\n",
      "2-member conversations: 374829\n",
      "3-member conversations: 60615\n",
      "4-member conversations: 5694\n",
      "5-member conversations: 3077\n",
      "6-member conversations: 1908\n",
      "7-member conversations: 1292\n",
      "8-member conversations: 951\n",
      "9-member conversations: 718\n",
      "10-member conversations: 516\n",
      "11-member conversations: 419\n",
      "12-member conversations: 266\n",
      "13-member conversations: 262\n",
      "14-member conversations: 191\n",
      "15-member conversations: 174\n",
      "16-member conversations: 146\n",
      "17-member conversations: 114\n",
      "18-member conversations: 112\n",
      "19-member conversations: 79\n",
      "20-member conversations: 64\n",
      "21-member conversations: 62\n",
      "22-member conversations: 60\n",
      "23-member conversations: 40\n",
      "24-member conversations: 44\n",
      "25-member conversations: 42\n",
      "26-member conversations: 36\n",
      "27-member conversations: 43\n",
      "28-member conversations: 32\n",
      "29-member conversations: 26\n",
      "30-member conversations: 29\n",
      "31-member conversations: 29\n",
      "32-member conversations: 16\n",
      "33-member conversations: 22\n",
      "34-member conversations: 12\n",
      "35-member conversations: 13\n",
      "36-member conversations: 14\n",
      "37-member conversations: 12\n",
      "38-member conversations: 14\n",
      "39-member conversations: 14\n",
      "40-member conversations: 6\n",
      "41-member conversations: 11\n",
      "42-member conversations: 13\n",
      "43-member conversations: 9\n",
      "44-member conversations: 2\n",
      "45-member conversations: 6\n",
      "46-member conversations: 2\n",
      "47-member conversations: 6\n",
      "48-member conversations: 6\n",
      "49-member conversations: 2\n",
      "50-member conversations: 7\n",
      "51-member conversations: 5\n",
      "52-member conversations: 2\n",
      "53-member conversations: 1\n",
      "54-member conversations: 4\n",
      "56-member conversations: 3\n",
      "57-member conversations: 4\n",
      "58-member conversations: 1\n",
      "60-member conversations: 3\n",
      "63-member conversations: 3\n",
      "65-member conversations: 1\n",
      "66-member conversations: 1\n",
      "67-member conversations: 1\n",
      "71-member conversations: 1\n",
      "72-member conversations: 1\n"
     ]
    }
   ],
   "source": [
    "# Step 1: Count unique member_ids per conversation_id\n",
    "members_per_convo = (all_bunnings_messages\n",
    "    .group_by(\"conversation_id\")\n",
    "    .agg(\n",
    "        pl.col(\"member_id\").n_unique().alias(\"member_count\")\n",
    "    )\n",
    ")\n",
    "\n",
    "# Step 2: Count conversations by their member count\n",
    "result = (members_per_convo\n",
    "    .group_by(\"member_count\")\n",
    "    .agg(\n",
    "        pl.count().alias(\"conversation_count\")\n",
    "    )\n",
    "    .sort(\"member_count\")\n",
    "    .collect()\n",
    ")\n",
    "\n",
    "# Print the results\n",
    "print(\"Conversation counts by number of members:\")\n",
    "for row in result.iter_rows(named=True):\n",
    "    print(f\"{row['member_count'] + 1}-member conversations: {row['conversation_count']}\")"
   ]
  },
  {
   "cell_type": "code",
   "execution_count": null,
   "metadata": {},
   "outputs": [],
   "source": [
    "all_bunnings_groups_v1 = pl.scan_parquet('Bunnings_converted_parquet/groups.parquet')\n",
    "all_bunnings_groups_feeds_v1 = pl.scan_parquet('Bunnings_converted_parquet/group_feeds_*.parquet')"
   ]
  },
  {
   "cell_type": "code",
   "execution_count": null,
   "metadata": {},
   "outputs": [
    {
     "data": {
      "text/plain": [
       "2046417"
      ]
     },
     "execution_count": 15,
     "metadata": {},
     "output_type": "execute_result"
    }
   ],
   "source": [
    "all_bunnings_groups_feeds_v1.select(pl.len()).collect().item()"
   ]
  },
  {
   "cell_type": "code",
   "execution_count": null,
   "metadata": {},
   "outputs": [
    {
     "data": {
      "text/html": [
       "<div><style>\n",
       ".dataframe > thead > tr,\n",
       ".dataframe > tbody > tr {\n",
       "  text-align: right;\n",
       "  white-space: pre-wrap;\n",
       "}\n",
       "</style>\n",
       "<small>shape: (1, 1)</small><table border=\"1\" class=\"dataframe\"><thead><tr><th>id</th></tr><tr><td>u32</td></tr></thead><tbody><tr><td>218234</td></tr></tbody></table></div>"
      ],
      "text/plain": [
       "shape: (1, 1)\n",
       "┌────────┐\n",
       "│ id     │\n",
       "│ ---    │\n",
       "│ u32    │\n",
       "╞════════╡\n",
       "│ 218234 │\n",
       "└────────┘"
      ]
     },
     "execution_count": 18,
     "metadata": {},
     "output_type": "execute_result"
    }
   ],
   "source": [
    "all_bunnings_group_feeds.select(pl.col('id').n_unique()).collect()"
   ]
  },
  {
   "cell_type": "code",
   "execution_count": null,
   "metadata": {},
   "outputs": [],
   "source": []
  }
 ],
 "metadata": {
  "kernelspec": {
   "display_name": "workplace-converter-FMkCQOQs-py3.13",
   "language": "python",
   "name": "python3"
  },
  "language_info": {
   "codemirror_mode": {
    "name": "ipython",
    "version": 3
   },
   "file_extension": ".py",
   "mimetype": "text/x-python",
   "name": "python",
   "nbconvert_exporter": "python",
   "pygments_lexer": "ipython3",
   "version": "3.13.2"
  }
 },
 "nbformat": 4,
 "nbformat_minor": 2
}
